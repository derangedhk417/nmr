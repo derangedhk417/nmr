{
 "cells": [
  {
   "cell_type": "code",
   "execution_count": 1,
   "metadata": {},
   "outputs": [
    {
     "name": "stdout",
     "output_type": "stream",
     "text": [
      "The Magnetic Field\n"
     ]
    },
    {
     "data": {
      "text/latex": [
       "$\\displaystyle B = B_{0} \\hat{k} + B_{rf} \\hat{i} \\cos{\\left(\\omega t \\right)} - B_{rf} \\hat{j} \\sin{\\left(\\omega t \\right)}$"
      ],
      "text/plain": [
       "<IPython.core.display.Math object>"
      ]
     },
     "metadata": {},
     "output_type": "display_data"
    },
    {
     "name": "stdout",
     "output_type": "stream",
     "text": [
      "System of Differential Equations\n"
     ]
    },
    {
     "data": {
      "text/latex": [
       "$\\displaystyle \\dot{a} = \\frac{i \\left(\\Omega b e^{i \\omega t} + \\omega_0 a\\right)}{2}$"
      ],
      "text/plain": [
       "<IPython.core.display.Math object>"
      ]
     },
     "metadata": {},
     "output_type": "display_data"
    },
    {
     "data": {
      "text/latex": [
       "$\\displaystyle \\dot{b} = \\frac{i \\left(\\Omega a e^{- i \\omega t} - \\omega_0 b\\right)}{2}$"
      ],
      "text/plain": [
       "<IPython.core.display.Math object>"
      ]
     },
     "metadata": {},
     "output_type": "display_data"
    },
    {
     "name": "stdout",
     "output_type": "stream",
     "text": [
      "Definition of Expressions\n"
     ]
    },
    {
     "data": {
      "text/latex": [
       "$\\displaystyle \\omega_0 = B_{0} \\gamma$"
      ],
      "text/plain": [
       "<IPython.core.display.Math object>"
      ]
     },
     "metadata": {},
     "output_type": "display_data"
    },
    {
     "data": {
      "text/latex": [
       "$\\displaystyle \\Omega = B_{rf} \\gamma$"
      ],
      "text/plain": [
       "<IPython.core.display.Math object>"
      ]
     },
     "metadata": {},
     "output_type": "display_data"
    },
    {
     "data": {
      "text/latex": [
       "$\\displaystyle \\omega^{\\prime} = \\sqrt{\\Omega^{2} + \\left(\\omega - \\omega_0\\right)^{2}}$"
      ],
      "text/plain": [
       "<IPython.core.display.Math object>"
      ]
     },
     "metadata": {},
     "output_type": "display_data"
    },
    {
     "data": {
      "text/latex": [
       "$\\displaystyle a_{0} = \\sin{\\left(\\frac{\\theta}{2} \\right)}$"
      ],
      "text/plain": [
       "<IPython.core.display.Math object>"
      ]
     },
     "metadata": {},
     "output_type": "display_data"
    },
    {
     "data": {
      "text/latex": [
       "$\\displaystyle b_{0} = \\cos{\\left(\\frac{\\theta}{2} \\right)}$"
      ],
      "text/plain": [
       "<IPython.core.display.Math object>"
      ]
     },
     "metadata": {},
     "output_type": "display_data"
    },
    {
     "name": "stdout",
     "output_type": "stream",
     "text": [
      "Solution to System\n"
     ]
    },
    {
     "data": {
      "text/latex": [
       "$\\displaystyle a = \\left(a_{0} \\cos{\\left(\\frac{\\omega^{\\prime} t}{2} \\right)} + \\frac{i \\left(\\Omega b_{0} + a_{0} \\left(- \\omega + \\omega_0\\right)\\right) \\sin{\\left(\\frac{\\omega^{\\prime} t}{2} \\right)}}{\\omega^{\\prime}}\\right) e^{\\frac{i \\omega t}{2}}$"
      ],
      "text/plain": [
       "<IPython.core.display.Math object>"
      ]
     },
     "metadata": {},
     "output_type": "display_data"
    },
    {
     "data": {
      "text/latex": [
       "$\\displaystyle b = \\left(b_{0} \\cos{\\left(\\frac{\\omega^{\\prime} t}{2} \\right)} + \\frac{i \\left(\\Omega a_{0} + b_{0} \\left(\\omega - \\omega_0\\right)\\right) \\sin{\\left(\\frac{\\omega^{\\prime} t}{2} \\right)}}{\\omega^{\\prime}}\\right) e^{- \\frac{i \\omega t}{2}}$"
      ],
      "text/plain": [
       "<IPython.core.display.Math object>"
      ]
     },
     "metadata": {},
     "output_type": "display_data"
    }
   ],
   "source": [
    "from nmr_ideal import *\n",
    "\n",
    "def show(expr, expr_r=None):\n",
    "    if expr_r is None:\n",
    "        display(Math(latex(expr)))\n",
    "    else:\n",
    "        display(Math(latex(Eq(expr, expr_r))))\n",
    "\n",
    "print(\"The Magnetic Field\")\n",
    "show(B, UnevaluatedExpr(expr_B))        \n",
    "\n",
    "print(\"System of Differential Equations\")\n",
    "show(a_dot, expr_a_dot)\n",
    "show(b_dot, expr_b_dot)\n",
    "\n",
    "print(\"Definition of Expressions\")\n",
    "show(omega_0, expr_omega_0)\n",
    "show(Omega, expr_Omega)\n",
    "show(omega_p, expr_omega_p)\n",
    "show(a_0, expr_a_0)\n",
    "show(b_0, expr_b_0)\n",
    "\n",
    "print(\"Solution to System\")\n",
    "show(a, expr_a)\n",
    "show(b, expr_b)"
   ]
  },
  {
   "cell_type": "code",
   "execution_count": 2,
   "metadata": {},
   "outputs": [
    {
     "name": "stdout",
     "output_type": "stream",
     "text": [
      "Spin Related Matrices\n"
     ]
    },
    {
     "data": {
      "text/latex": [
       "$\\displaystyle \\mathbf{\\sigma}_x = \\left[\\begin{matrix}0 & 1\\\\1 & 0\\end{matrix}\\right]$"
      ],
      "text/plain": [
       "<IPython.core.display.Math object>"
      ]
     },
     "metadata": {},
     "output_type": "display_data"
    },
    {
     "data": {
      "text/latex": [
       "$\\displaystyle \\mathbf{\\sigma}_y = \\left[\\begin{matrix}0 & - i\\\\i & 0\\end{matrix}\\right]$"
      ],
      "text/plain": [
       "<IPython.core.display.Math object>"
      ]
     },
     "metadata": {},
     "output_type": "display_data"
    },
    {
     "data": {
      "text/latex": [
       "$\\displaystyle \\mathbf{\\sigma}_z = \\left[\\begin{matrix}1 & 0\\\\0 & -1\\end{matrix}\\right]$"
      ],
      "text/plain": [
       "<IPython.core.display.Math object>"
      ]
     },
     "metadata": {},
     "output_type": "display_data"
    },
    {
     "data": {
      "text/latex": [
       "$\\displaystyle S_{x} = \\left[\\begin{matrix}0 & \\frac{\\hbar}{2}\\\\\\frac{\\hbar}{2} & 0\\end{matrix}\\right]$"
      ],
      "text/plain": [
       "<IPython.core.display.Math object>"
      ]
     },
     "metadata": {},
     "output_type": "display_data"
    },
    {
     "data": {
      "text/latex": [
       "$\\displaystyle S_{y} = \\left[\\begin{matrix}0 & - \\frac{i \\hbar}{2}\\\\\\frac{i \\hbar}{2} & 0\\end{matrix}\\right]$"
      ],
      "text/plain": [
       "<IPython.core.display.Math object>"
      ]
     },
     "metadata": {},
     "output_type": "display_data"
    },
    {
     "data": {
      "text/latex": [
       "$\\displaystyle S_{z} = \\left[\\begin{matrix}\\frac{\\hbar}{2} & 0\\\\0 & - \\frac{\\hbar}{2}\\end{matrix}\\right]$"
      ],
      "text/plain": [
       "<IPython.core.display.Math object>"
      ]
     },
     "metadata": {},
     "output_type": "display_data"
    }
   ],
   "source": [
    "print(\"Spin Related Matrices\")\n",
    "\n",
    "show(sigma_x, UnevaluatedExpr(expr_sigma_x))\n",
    "show(sigma_y, UnevaluatedExpr(expr_sigma_y))\n",
    "show(sigma_z, UnevaluatedExpr(expr_sigma_z))\n",
    "\n",
    "show(S_x, UnevaluatedExpr(expr_S_x))\n",
    "show(S_y, UnevaluatedExpr(expr_S_y))\n",
    "show(S_z, UnevaluatedExpr(expr_S_z))"
   ]
  },
  {
   "cell_type": "code",
   "execution_count": 3,
   "metadata": {},
   "outputs": [
    {
     "data": {
      "text/latex": [
       "$\\displaystyle a = \\left(\\sin{\\left(\\frac{\\theta}{2} \\right)} \\cos{\\left(\\frac{t \\sqrt{B_{rf}^{2} \\gamma^{2} + \\left(- B_{0} \\gamma + \\omega\\right)^{2}}}{2} \\right)} + \\frac{i \\left(B_{rf} \\gamma \\cos{\\left(\\frac{\\theta}{2} \\right)} + \\left(B_{0} \\gamma - \\omega\\right) \\sin{\\left(\\frac{\\theta}{2} \\right)}\\right) \\sin{\\left(\\frac{t \\sqrt{B_{rf}^{2} \\gamma^{2} + \\left(- B_{0} \\gamma + \\omega\\right)^{2}}}{2} \\right)}}{\\sqrt{B_{rf}^{2} \\gamma^{2} + \\left(- B_{0} \\gamma + \\omega\\right)^{2}}}\\right) e^{\\frac{i \\omega t}{2}}$"
      ],
      "text/plain": [
       "<IPython.core.display.Math object>"
      ]
     },
     "metadata": {},
     "output_type": "display_data"
    },
    {
     "data": {
      "text/latex": [
       "$\\displaystyle b = \\left(\\cos{\\left(\\frac{\\theta}{2} \\right)} \\cos{\\left(\\frac{t \\sqrt{B_{rf}^{2} \\gamma^{2} + \\left(- B_{0} \\gamma + \\omega\\right)^{2}}}{2} \\right)} + \\frac{i \\left(B_{rf} \\gamma \\sin{\\left(\\frac{\\theta}{2} \\right)} + \\left(- B_{0} \\gamma + \\omega\\right) \\cos{\\left(\\frac{\\theta}{2} \\right)}\\right) \\sin{\\left(\\frac{t \\sqrt{B_{rf}^{2} \\gamma^{2} + \\left(- B_{0} \\gamma + \\omega\\right)^{2}}}{2} \\right)}}{\\sqrt{B_{rf}^{2} \\gamma^{2} + \\left(- B_{0} \\gamma + \\omega\\right)^{2}}}\\right) e^{- \\frac{i \\omega t}{2}}$"
      ],
      "text/plain": [
       "<IPython.core.display.Math object>"
      ]
     },
     "metadata": {},
     "output_type": "display_data"
    },
    {
     "name": "stdout",
     "output_type": "stream",
     "text": [
      "Check Orthonormality\n"
     ]
    },
    {
     "data": {
      "text/latex": [
       "$\\displaystyle a \\overline{a} + b \\overline{b} = 1$"
      ],
      "text/plain": [
       "<IPython.core.display.Math object>"
      ]
     },
     "metadata": {},
     "output_type": "display_data"
    },
    {
     "name": "stdout",
     "output_type": "stream",
     "text": [
      "Check Differential Equation Solutions\n"
     ]
    },
    {
     "data": {
      "text/latex": [
       "$\\displaystyle \\frac{d}{d t} a = \\frac{i \\left(\\Omega b e^{i \\omega t} + \\omega_0 a\\right)}{2}$"
      ],
      "text/plain": [
       "<IPython.core.display.Math object>"
      ]
     },
     "metadata": {},
     "output_type": "display_data"
    },
    {
     "data": {
      "text/latex": [
       "$\\displaystyle \\frac{d}{d t} b = \\frac{i \\left(\\Omega a e^{- i \\omega t} - \\omega_0 b\\right)}{2}$"
      ],
      "text/plain": [
       "<IPython.core.display.Math object>"
      ]
     },
     "metadata": {},
     "output_type": "display_data"
    },
    {
     "name": "stdout",
     "output_type": "stream",
     "text": [
      "Equation for a\n"
     ]
    },
    {
     "data": {
      "text/latex": [
       "$\\displaystyle \\text{True}$"
      ],
      "text/plain": [
       "<IPython.core.display.Math object>"
      ]
     },
     "metadata": {},
     "output_type": "display_data"
    },
    {
     "name": "stdout",
     "output_type": "stream",
     "text": [
      "Equation for b\n"
     ]
    },
    {
     "data": {
      "text/latex": [
       "$\\displaystyle \\text{True}$"
      ],
      "text/plain": [
       "<IPython.core.display.Math object>"
      ]
     },
     "metadata": {},
     "output_type": "display_data"
    }
   ],
   "source": [
    "show(a, complete_a)\n",
    "show(b, complete_b)\n",
    "\n",
    "print(\"Check Orthonormality\")\n",
    "\n",
    "show(expr_ortho, expr_ortho_eval)\n",
    "\n",
    "print(\"Check Differential Equation Solutions\")\n",
    "\n",
    "show(left_a, right_a)\n",
    "show(left_b, right_b)\n",
    "\n",
    "print(\"Equation for a\")\n",
    "show(simplify(left_a_done - right_a_done) == 0)\n",
    "\n",
    "print(\"Equation for b\")\n",
    "show(simplify(left_b_done - right_b_done) == 0)"
   ]
  },
  {
   "cell_type": "code",
   "execution_count": 4,
   "metadata": {},
   "outputs": [
    {
     "data": {
      "text/latex": [
       "$\\displaystyle H = \\left[\\begin{matrix}- \\frac{B_{0} \\gamma \\hbar}{2} & - \\frac{B_{rf} \\gamma \\hbar \\left(i \\sin{\\left(\\omega t \\right)} + \\cos{\\left(\\omega t \\right)}\\right)}{2}\\\\- \\frac{B_{rf} \\gamma \\hbar \\left(- i \\sin{\\left(\\omega t \\right)} + \\cos{\\left(\\omega t \\right)}\\right)}{2} & \\frac{B_{0} \\gamma \\hbar}{2}\\end{matrix}\\right]$"
      ],
      "text/plain": [
       "<IPython.core.display.Math object>"
      ]
     },
     "metadata": {},
     "output_type": "display_data"
    },
    {
     "data": {
      "text/latex": [
       "$\\displaystyle i \\hbar \\frac{\\partial}{\\partial t} \\left[\\begin{matrix}a\\\\b\\end{matrix}\\right] = \\left[\\begin{matrix}- \\frac{B_{0} \\gamma \\hbar}{2} & - \\frac{B_{rf} \\gamma \\hbar \\left(i \\sin{\\left(\\omega t \\right)} + \\cos{\\left(\\omega t \\right)}\\right)}{2}\\\\- \\frac{B_{rf} \\gamma \\hbar \\left(- i \\sin{\\left(\\omega t \\right)} + \\cos{\\left(\\omega t \\right)}\\right)}{2} & \\frac{B_{0} \\gamma \\hbar}{2}\\end{matrix}\\right] \\left[\\begin{matrix}a\\\\b\\end{matrix}\\right]$"
      ],
      "text/plain": [
       "<IPython.core.display.Math object>"
      ]
     },
     "metadata": {},
     "output_type": "display_data"
    },
    {
     "name": "stdout",
     "output_type": "stream",
     "text": [
      "------------------------\n"
     ]
    },
    {
     "data": {
      "text/latex": [
       "$\\displaystyle i \\hbar \\frac{d}{d t} a = - \\frac{B_{0} \\gamma \\hbar a}{2} - \\frac{B_{rf} \\gamma \\hbar b \\left(i \\sin{\\left(\\omega t \\right)} + \\cos{\\left(\\omega t \\right)}\\right)}{2}$"
      ],
      "text/plain": [
       "<IPython.core.display.Math object>"
      ]
     },
     "metadata": {},
     "output_type": "display_data"
    },
    {
     "name": "stdout",
     "output_type": "stream",
     "text": [
      "and\n"
     ]
    },
    {
     "data": {
      "text/latex": [
       "$\\displaystyle i \\hbar \\frac{d}{d t} b = \\frac{B_{0} \\gamma \\hbar b}{2} - \\frac{B_{rf} \\gamma \\hbar a \\left(- i \\sin{\\left(\\omega t \\right)} + \\cos{\\left(\\omega t \\right)}\\right)}{2}$"
      ],
      "text/plain": [
       "<IPython.core.display.Math object>"
      ]
     },
     "metadata": {},
     "output_type": "display_data"
    }
   ],
   "source": [
    "show(H, UnevaluatedExpr(expr_hamiltonian))\n",
    "show(expr_disp_left_schrodinger, UnevaluatedExpr(expr_disp_right_schrodinger))\n",
    "\n",
    "print(\"------------------------\")\n",
    "show(expr_left_a_simple, expr_right_a_simple)\n",
    "print(\"and\")\n",
    "show(expr_left_b_simple, expr_right_b_simple)"
   ]
  },
  {
   "cell_type": "code",
   "execution_count": 2,
   "metadata": {},
   "outputs": [
    {
     "data": {
      "text/latex": [
       "$\\displaystyle a = \\left(\\sin{\\left(\\frac{\\theta}{2} \\right)} \\cos{\\left(\\frac{\\Omega t}{2} \\right)} + i \\sin{\\left(\\frac{\\Omega t}{2} \\right)} \\cos{\\left(\\frac{\\theta}{2} \\right)}\\right) e^{\\frac{i \\omega_0 t}{2}}$"
      ],
      "text/plain": [
       "<IPython.core.display.Math object>"
      ]
     },
     "metadata": {},
     "output_type": "display_data"
    },
    {
     "data": {
      "text/latex": [
       "$\\displaystyle b = \\left(i \\sin{\\left(\\frac{\\theta}{2} \\right)} \\sin{\\left(\\frac{\\Omega t}{2} \\right)} + \\cos{\\left(\\frac{\\theta}{2} \\right)} \\cos{\\left(\\frac{\\Omega t}{2} \\right)}\\right) e^{- \\frac{i \\omega_0 t}{2}}$"
      ],
      "text/plain": [
       "<IPython.core.display.Math object>"
      ]
     },
     "metadata": {},
     "output_type": "display_data"
    }
   ],
   "source": [
    "show(a, expr_a_res)\n",
    "show(b, expr_b_res)"
   ]
  },
  {
   "cell_type": "code",
   "execution_count": 2,
   "metadata": {},
   "outputs": [
    {
     "data": {
      "text/latex": [
       "$\\displaystyle \\chi\\left(t\\right) = \\left[\\begin{matrix}a\\\\b\\end{matrix}\\right]$"
      ],
      "text/plain": [
       "<IPython.core.display.Math object>"
      ]
     },
     "metadata": {},
     "output_type": "display_data"
    },
    {
     "data": {
      "text/latex": [
       "$\\displaystyle \\left<S_x\\right> = \\left[\\begin{matrix}\\overline{a} & \\overline{b}\\end{matrix}\\right] S_{x} \\left[\\begin{matrix}a\\\\b\\end{matrix}\\right]$"
      ],
      "text/plain": [
       "<IPython.core.display.Math object>"
      ]
     },
     "metadata": {},
     "output_type": "display_data"
    },
    {
     "data": {
      "text/latex": [
       "$\\displaystyle \\left<S_y\\right> = \\left[\\begin{matrix}\\overline{a} & \\overline{b}\\end{matrix}\\right] S_{y} \\left[\\begin{matrix}a\\\\b\\end{matrix}\\right]$"
      ],
      "text/plain": [
       "<IPython.core.display.Math object>"
      ]
     },
     "metadata": {},
     "output_type": "display_data"
    },
    {
     "data": {
      "text/latex": [
       "$\\displaystyle \\left<S_z\\right> = \\left[\\begin{matrix}\\overline{a} & \\overline{b}\\end{matrix}\\right] S_{z} \\left[\\begin{matrix}a\\\\b\\end{matrix}\\right]$"
      ],
      "text/plain": [
       "<IPython.core.display.Math object>"
      ]
     },
     "metadata": {},
     "output_type": "display_data"
    },
    {
     "name": "stdout",
     "output_type": "stream",
     "text": [
      "Expectation Value of the Spin Vector Components Under Resonance\n"
     ]
    },
    {
     "data": {
      "text/latex": [
       "$\\displaystyle \\left<S_x\\right> = \\frac{\\hbar \\left(e^{2 i \\omega_0 t} \\sin{\\left(\\theta \\right)} + i e^{2 i \\omega_0 t} \\sin{\\left(\\Omega t \\right)} \\cos{\\left(\\theta \\right)} + \\sin{\\left(\\theta \\right)} - i \\sin{\\left(\\Omega t \\right)} \\cos{\\left(\\theta \\right)}\\right) e^{- i \\omega_0 t}}{4}$"
      ],
      "text/plain": [
       "<IPython.core.display.Math object>"
      ]
     },
     "metadata": {},
     "output_type": "display_data"
    },
    {
     "data": {
      "text/latex": [
       "$\\displaystyle \\left<S_y\\right> = \\frac{i \\hbar \\left(e^{2 i \\omega_0 t} \\sin{\\left(\\theta \\right)} + i e^{2 i \\omega_0 t} \\sin{\\left(\\Omega t \\right)} \\cos{\\left(\\theta \\right)} - \\sin{\\left(\\theta \\right)} + i \\sin{\\left(\\Omega t \\right)} \\cos{\\left(\\theta \\right)}\\right) e^{- i \\omega_0 t}}{4}$"
      ],
      "text/plain": [
       "<IPython.core.display.Math object>"
      ]
     },
     "metadata": {},
     "output_type": "display_data"
    },
    {
     "data": {
      "text/latex": [
       "$\\displaystyle \\left<S_z\\right> = - \\frac{\\hbar \\cos{\\left(\\theta \\right)} \\cos{\\left(\\Omega t \\right)}}{2}$"
      ],
      "text/plain": [
       "<IPython.core.display.Math object>"
      ]
     },
     "metadata": {},
     "output_type": "display_data"
    }
   ],
   "source": [
    "show(spin_state, UnevaluatedExpr(expr_spin_generic))\n",
    "\n",
    "show(S_x_exp, UnevaluatedExpr(expr_S_x_exp_s))\n",
    "show(S_y_exp, UnevaluatedExpr(expr_S_y_exp_s))\n",
    "show(S_z_exp, UnevaluatedExpr(expr_S_z_exp_s))\n",
    "\n",
    "print(\"Expectation Value of the Spin Vector Components Under Resonance\")\n",
    "show(S_x_exp, (expr_S_x_exp))\n",
    "show(S_y_exp, (expr_S_y_exp))\n",
    "show(S_z_exp, (expr_S_z_exp))\n"
   ]
  },
  {
   "cell_type": "code",
   "execution_count": 2,
   "metadata": {},
   "outputs": [
    {
     "data": {
      "text/latex": [
       "$\\displaystyle \\frac{N_{down}}{N_{up}} = e^{- \\frac{\\hbar \\omega_0}{T k_{b}}}$"
      ],
      "text/plain": [
       "<IPython.core.display.Math object>"
      ]
     },
     "metadata": {},
     "output_type": "display_data"
    },
    {
     "data": {
      "text/latex": [
       "$\\displaystyle \\frac{b_{0}}{a_{0}} = e^{- \\frac{\\hbar \\omega_0}{T k_{b}}}$"
      ],
      "text/plain": [
       "<IPython.core.display.Math object>"
      ]
     },
     "metadata": {},
     "output_type": "display_data"
    },
    {
     "data": {
      "text/latex": [
       "$\\displaystyle \\frac{b_{0}}{a_{0}} = \\frac{\\cos{\\left(\\frac{\\theta}{2} \\right)}}{\\sin{\\left(\\frac{\\theta}{2} \\right)}}$"
      ],
      "text/plain": [
       "<IPython.core.display.Math object>"
      ]
     },
     "metadata": {},
     "output_type": "display_data"
    },
    {
     "data": {
      "text/latex": [
       "$\\displaystyle \\frac{\\cos{\\left(\\frac{\\theta}{2} \\right)}}{\\sin{\\left(\\frac{\\theta}{2} \\right)}} = e^{- \\frac{\\hbar \\omega_0}{T k_{b}}}$"
      ],
      "text/plain": [
       "<IPython.core.display.Math object>"
      ]
     },
     "metadata": {},
     "output_type": "display_data"
    },
    {
     "name": "stdout",
     "output_type": "stream",
     "text": [
      "Value of Theta In Thermal Equilibrium\n"
     ]
    },
    {
     "data": {
      "text/latex": [
       "$\\displaystyle \\theta = 4 \\operatorname{atan}{\\left(\\left(\\sqrt{e^{\\frac{2 \\hbar \\omega_0}{T k_{b}}} + 1} - 1\\right) e^{- \\frac{\\hbar \\omega_0}{T k_{b}}} \\right)}$"
      ],
      "text/plain": [
       "<IPython.core.display.Math object>"
      ]
     },
     "metadata": {},
     "output_type": "display_data"
    },
    {
     "name": "stdout",
     "output_type": "stream",
     "text": [
      "Evaluating the Limit\n"
     ]
    },
    {
     "data": {
      "text/latex": [
       "$\\displaystyle \\lim_{T \\to \\infty}\\left(4 \\operatorname{atan}{\\left(\\left(\\sqrt{e^{\\frac{2 \\hbar \\omega_0}{T k_{b}}} + 1} - 1\\right) e^{- \\frac{\\hbar \\omega_0}{T k_{b}}} \\right)}\\right) = \\frac{\\pi}{2}$"
      ],
      "text/plain": [
       "<IPython.core.display.Math object>"
      ]
     },
     "metadata": {},
     "output_type": "display_data"
    }
   ],
   "source": [
    "show(N_down / N_up, expr_ratio)\n",
    "show(b_0 / a_0, expr_ratio)\n",
    "show(b_0 / a_0, expr_b_0 / expr_a_0)\n",
    "show(expr_b_0 / expr_a_0, expr_ratio)\n",
    "\n",
    "\n",
    "\n",
    "print(\"Value of Theta In Thermal Equilibrium\")\n",
    "show(theta, theta_equilibrium)\n",
    "print(\"Evaluating the Limit\")\n",
    "\n",
    "show(expr_lim, expr_lim.doit())"
   ]
  },
  {
   "cell_type": "code",
   "execution_count": 2,
   "metadata": {},
   "outputs": [
    {
     "name": "stdout",
     "output_type": "stream",
     "text": [
      "Epsilon is a small displacement from pi / 2.\n",
      "It decreases with temperature.\n"
     ]
    },
    {
     "data": {
      "text/latex": [
       "$\\displaystyle \\epsilon = - 4 \\operatorname{atan}{\\left(\\left(\\sqrt{e^{\\frac{2 \\hbar \\omega_0}{T k_{b}}} + 1} - 1\\right) e^{- \\frac{\\hbar \\omega_0}{T k_{b}}} \\right)} + \\frac{\\pi}{2}$"
      ],
      "text/plain": [
       "<IPython.core.display.Math object>"
      ]
     },
     "metadata": {},
     "output_type": "display_data"
    },
    {
     "data": {
      "text/latex": [
       "$\\displaystyle a_{0} = \\sin{\\left(\\frac{\\epsilon}{2} + \\frac{\\pi}{4} \\right)}$"
      ],
      "text/plain": [
       "<IPython.core.display.Math object>"
      ]
     },
     "metadata": {},
     "output_type": "display_data"
    },
    {
     "data": {
      "text/latex": [
       "$\\displaystyle b_{0} = \\cos{\\left(\\frac{\\epsilon}{2} + \\frac{\\pi}{4} \\right)}$"
      ],
      "text/plain": [
       "<IPython.core.display.Math object>"
      ]
     },
     "metadata": {},
     "output_type": "display_data"
    },
    {
     "data": {
      "text/latex": [
       "$\\displaystyle \\left<S_x\\right> = \\frac{\\hbar \\left(- i e^{2 i \\omega_0 t} \\sin{\\left(\\epsilon \\right)} \\sin{\\left(\\Omega t \\right)} + e^{2 i \\omega_0 t} \\cos{\\left(\\epsilon \\right)} + i \\sin{\\left(\\epsilon \\right)} \\sin{\\left(\\Omega t \\right)} + \\cos{\\left(\\epsilon \\right)}\\right) e^{- i \\omega_0 t}}{4}$"
      ],
      "text/plain": [
       "<IPython.core.display.Math object>"
      ]
     },
     "metadata": {},
     "output_type": "display_data"
    },
    {
     "data": {
      "text/latex": [
       "$\\displaystyle \\left<S_y\\right> = \\frac{i \\hbar \\left(- i e^{2 i \\omega_0 t} \\sin{\\left(\\epsilon \\right)} \\sin{\\left(\\Omega t \\right)} + e^{2 i \\omega_0 t} \\cos{\\left(\\epsilon \\right)} - i \\sin{\\left(\\epsilon \\right)} \\sin{\\left(\\Omega t \\right)} - \\cos{\\left(\\epsilon \\right)}\\right) e^{- i \\omega_0 t}}{4}$"
      ],
      "text/plain": [
       "<IPython.core.display.Math object>"
      ]
     },
     "metadata": {},
     "output_type": "display_data"
    },
    {
     "data": {
      "text/latex": [
       "$\\displaystyle \\left<S_z\\right> = \\frac{\\hbar \\sin{\\left(\\epsilon \\right)} \\cos{\\left(\\Omega t \\right)}}{2}$"
      ],
      "text/plain": [
       "<IPython.core.display.Math object>"
      ]
     },
     "metadata": {},
     "output_type": "display_data"
    },
    {
     "name": "stdout",
     "output_type": "stream",
     "text": [
      "After Applying Taylor Expansion Over Epsilon\n"
     ]
    },
    {
     "data": {
      "text/latex": [
       "$\\displaystyle \\left<S_x\\right> = \\frac{\\hbar \\left(- i \\epsilon e^{2 i \\omega_0 t} \\sin{\\left(\\Omega t \\right)} + i \\epsilon \\sin{\\left(\\Omega t \\right)} + e^{2 i \\omega_0 t} + 1\\right) e^{- i \\omega_0 t}}{4}$"
      ],
      "text/plain": [
       "<IPython.core.display.Math object>"
      ]
     },
     "metadata": {},
     "output_type": "display_data"
    },
    {
     "data": {
      "text/latex": [
       "$\\displaystyle \\left<S_y\\right> = \\frac{i \\hbar \\left(- i \\epsilon e^{2 i \\omega_0 t} \\sin{\\left(\\Omega t \\right)} - i \\epsilon \\sin{\\left(\\Omega t \\right)} + e^{2 i \\omega_0 t} - 1\\right) e^{- i \\omega_0 t}}{4}$"
      ],
      "text/plain": [
       "<IPython.core.display.Math object>"
      ]
     },
     "metadata": {},
     "output_type": "display_data"
    },
    {
     "data": {
      "text/latex": [
       "$\\displaystyle \\left<S_z\\right> = \\frac{\\epsilon \\hbar \\cos{\\left(\\Omega t \\right)}}{2}$"
      ],
      "text/plain": [
       "<IPython.core.display.Math object>"
      ]
     },
     "metadata": {},
     "output_type": "display_data"
    }
   ],
   "source": [
    "# This is the small value above pi/2 that theta takes on, as a function of temperature\n",
    "\n",
    "print(\"Epsilon is a small displacement from pi / 2.\")\n",
    "print(\"It decreases with temperature.\")\n",
    "\n",
    "show(epsilon, expr_epsilon)\n",
    "\n",
    "show(a_0, expr_a_0_equil)\n",
    "show(b_0, expr_b_0_equil)\n",
    "\n",
    "show(S_x_exp, (expr_S_x_exp_equil))\n",
    "show(S_y_exp, (expr_S_y_exp_equil))\n",
    "show(S_z_exp, (expr_S_z_exp_equil))\n",
    "\n",
    "print(\"After Applying Taylor Expansion Over Epsilon\")\n",
    "\n",
    "show(S_x_exp, (expr_S_x_exp_equil_approx))\n",
    "show(S_y_exp, (expr_S_y_exp_equil_approx))\n",
    "show(S_z_exp, (expr_S_z_exp_equil_approx))"
   ]
  },
  {
   "cell_type": "code",
   "execution_count": 7,
   "metadata": {},
   "outputs": [
    {
     "name": "stdout",
     "output_type": "stream",
     "text": [
      "Spin manipulation in thermal equilibrium.\n"
     ]
    },
    {
     "data": {
      "text/latex": [
       "$\\displaystyle t = 0$"
      ],
      "text/plain": [
       "<IPython.core.display.Math object>"
      ]
     },
     "metadata": {},
     "output_type": "display_data"
    },
    {
     "data": {
      "text/latex": [
       "$\\displaystyle \\left<S_x\\right> = 0$"
      ],
      "text/plain": [
       "<IPython.core.display.Math object>"
      ]
     },
     "metadata": {},
     "output_type": "display_data"
    },
    {
     "data": {
      "text/latex": [
       "$\\displaystyle \\left<S_y\\right> = 0$"
      ],
      "text/plain": [
       "<IPython.core.display.Math object>"
      ]
     },
     "metadata": {},
     "output_type": "display_data"
    },
    {
     "data": {
      "text/latex": [
       "$\\displaystyle \\left<S_z\\right> = \\frac{\\epsilon \\hbar}{2}$"
      ],
      "text/plain": [
       "<IPython.core.display.Math object>"
      ]
     },
     "metadata": {},
     "output_type": "display_data"
    },
    {
     "name": "stdout",
     "output_type": "stream",
     "text": [
      "-------------------------------------\n"
     ]
    },
    {
     "data": {
      "text/latex": [
       "$\\displaystyle t = \\frac{\\pi}{2 \\Omega}$"
      ],
      "text/plain": [
       "<IPython.core.display.Math object>"
      ]
     },
     "metadata": {},
     "output_type": "display_data"
    },
    {
     "data": {
      "text/latex": [
       "$\\displaystyle \\left<S_x\\right> = \\frac{\\hbar \\left(- i \\epsilon e^{\\frac{i \\pi \\omega_0}{\\Omega}} + i \\epsilon + e^{\\frac{i \\pi \\omega_0}{\\Omega}} + 1\\right) e^{- \\frac{i \\pi \\omega_0}{2 \\Omega}}}{4}$"
      ],
      "text/plain": [
       "<IPython.core.display.Math object>"
      ]
     },
     "metadata": {},
     "output_type": "display_data"
    },
    {
     "data": {
      "text/latex": [
       "$\\displaystyle \\left<S_y\\right> = \\frac{i \\hbar \\left(- i \\epsilon e^{\\frac{i \\pi \\omega_0}{\\Omega}} - i \\epsilon + e^{\\frac{i \\pi \\omega_0}{\\Omega}} - 1\\right) e^{- \\frac{i \\pi \\omega_0}{2 \\Omega}}}{4}$"
      ],
      "text/plain": [
       "<IPython.core.display.Math object>"
      ]
     },
     "metadata": {},
     "output_type": "display_data"
    },
    {
     "data": {
      "text/latex": [
       "$\\displaystyle \\left<S_z\\right> = 0$"
      ],
      "text/plain": [
       "<IPython.core.display.Math object>"
      ]
     },
     "metadata": {},
     "output_type": "display_data"
    },
    {
     "name": "stdout",
     "output_type": "stream",
     "text": [
      "-------------------------------------\n"
     ]
    },
    {
     "data": {
      "text/latex": [
       "$\\displaystyle t = \\frac{\\pi}{\\Omega}$"
      ],
      "text/plain": [
       "<IPython.core.display.Math object>"
      ]
     },
     "metadata": {},
     "output_type": "display_data"
    },
    {
     "data": {
      "text/latex": [
       "$\\displaystyle \\left<S_x\\right> = \\frac{\\hbar \\left(e^{\\frac{2 i \\pi \\omega_0}{\\Omega}} + 1\\right) e^{- \\frac{i \\pi \\omega_0}{\\Omega}}}{4}$"
      ],
      "text/plain": [
       "<IPython.core.display.Math object>"
      ]
     },
     "metadata": {},
     "output_type": "display_data"
    },
    {
     "data": {
      "text/latex": [
       "$\\displaystyle \\left<S_y\\right> = \\frac{i \\hbar \\left(e^{\\frac{2 i \\pi \\omega_0}{\\Omega}} - 1\\right) e^{- \\frac{i \\pi \\omega_0}{\\Omega}}}{4}$"
      ],
      "text/plain": [
       "<IPython.core.display.Math object>"
      ]
     },
     "metadata": {},
     "output_type": "display_data"
    },
    {
     "data": {
      "text/latex": [
       "$\\displaystyle \\left<S_z\\right> = - \\frac{\\epsilon \\hbar}{2}$"
      ],
      "text/plain": [
       "<IPython.core.display.Math object>"
      ]
     },
     "metadata": {},
     "output_type": "display_data"
    },
    {
     "name": "stdout",
     "output_type": "stream",
     "text": [
      "-------------------------------------\n"
     ]
    },
    {
     "data": {
      "text/latex": [
       "$\\displaystyle t = \\frac{3 \\pi}{2 \\Omega}$"
      ],
      "text/plain": [
       "<IPython.core.display.Math object>"
      ]
     },
     "metadata": {},
     "output_type": "display_data"
    },
    {
     "data": {
      "text/latex": [
       "$\\displaystyle \\left<S_x\\right> = \\frac{\\hbar \\left(i \\epsilon e^{\\frac{3 i \\pi \\omega_0}{\\Omega}} - i \\epsilon + e^{\\frac{3 i \\pi \\omega_0}{\\Omega}} + 1\\right) e^{- \\frac{3 i \\pi \\omega_0}{2 \\Omega}}}{4}$"
      ],
      "text/plain": [
       "<IPython.core.display.Math object>"
      ]
     },
     "metadata": {},
     "output_type": "display_data"
    },
    {
     "data": {
      "text/latex": [
       "$\\displaystyle \\left<S_y\\right> = \\frac{i \\hbar \\left(i \\epsilon e^{\\frac{3 i \\pi \\omega_0}{\\Omega}} + i \\epsilon + e^{\\frac{3 i \\pi \\omega_0}{\\Omega}} - 1\\right) e^{- \\frac{3 i \\pi \\omega_0}{2 \\Omega}}}{4}$"
      ],
      "text/plain": [
       "<IPython.core.display.Math object>"
      ]
     },
     "metadata": {},
     "output_type": "display_data"
    },
    {
     "data": {
      "text/latex": [
       "$\\displaystyle \\left<S_z\\right> = 0$"
      ],
      "text/plain": [
       "<IPython.core.display.Math object>"
      ]
     },
     "metadata": {},
     "output_type": "display_data"
    }
   ],
   "source": [
    "print(\"Spin manipulation in thermal equilibrium.\")\n",
    "\n",
    "expr_t_zero = 0\n",
    "show(t, UnevaluatedExpr(expr_t_zero))\n",
    "\n",
    "expr_S_z_exp_equil_t_zero = expr_S_x_exp_equil_approx.subs(t, 0)\n",
    "\n",
    "show(S_x_exp, 0)\n",
    "show(S_y_exp, 0)\n",
    "show(S_z_exp, (epsilon*hbar/2))\n",
    "\n",
    "print(\"-------------------------------------\")\n",
    "\n",
    "expr_t_half = (pi / (2*Omega))\n",
    "show(t, expr_t_half)\n",
    "\n",
    "expr_S_x_exp_equil_t_half = expr_S_x_exp_equil_approx.subs(t, expr_t_half)\n",
    "expr_S_y_exp_equil_t_half = expr_S_y_exp_equil_approx.subs(t, expr_t_half)\n",
    "expr_S_z_exp_equil_t_half = expr_S_z_exp_equil_approx.subs(t, expr_t_half)\n",
    "\n",
    "show(S_x_exp, (expr_S_x_exp_equil_t_half))\n",
    "show(S_y_exp, (expr_S_y_exp_equil_t_half))\n",
    "show(S_z_exp, (expr_S_z_exp_equil_t_half))\n",
    "\n",
    "print(\"-------------------------------------\")\n",
    "\n",
    "expr_t_full = (pi / (Omega))\n",
    "show(t, expr_t_full)\n",
    "\n",
    "expr_S_x_exp_equil_t_full = expr_S_x_exp_equil_approx.subs(t, expr_t_full)\n",
    "expr_S_y_exp_equil_t_full = expr_S_y_exp_equil_approx.subs(t, expr_t_full)\n",
    "expr_S_z_exp_equil_t_full = expr_S_z_exp_equil_approx.subs(t, expr_t_full)\n",
    "\n",
    "show(S_x_exp, (expr_S_x_exp_equil_t_full))\n",
    "show(S_y_exp, (expr_S_y_exp_equil_t_full))\n",
    "show(S_z_exp, (expr_S_z_exp_equil_t_full))\n",
    "\n",
    "\n",
    "print(\"-------------------------------------\")\n",
    "\n",
    "expr_t_tf = (3*pi / (2*Omega))\n",
    "show(t, expr_t_tf)\n",
    "\n",
    "expr_S_x_exp_equil_t_tf = expr_S_x_exp_equil_approx.subs(t, expr_t_tf)\n",
    "expr_S_y_exp_equil_t_tf = expr_S_y_exp_equil_approx.subs(t, expr_t_tf)\n",
    "expr_S_z_exp_equil_t_tf = expr_S_z_exp_equil_approx.subs(t, expr_t_tf)\n",
    "\n",
    "show(S_x_exp, (expr_S_x_exp_equil_t_tf))\n",
    "show(S_y_exp, (expr_S_y_exp_equil_t_tf))\n",
    "show(S_z_exp, (expr_S_z_exp_equil_t_tf))\n",
    "\n",
    "\n"
   ]
  }
 ],
 "metadata": {
  "kernelspec": {
   "display_name": "Python 3",
   "language": "python",
   "name": "python3"
  },
  "language_info": {
   "codemirror_mode": {
    "name": "ipython",
    "version": 3
   },
   "file_extension": ".py",
   "mimetype": "text/x-python",
   "name": "python",
   "nbconvert_exporter": "python",
   "pygments_lexer": "ipython3",
   "version": "3.7.4"
  }
 },
 "nbformat": 4,
 "nbformat_minor": 2
}
